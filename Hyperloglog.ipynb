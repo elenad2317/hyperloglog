{
 "cells": [
  {
   "cell_type": "markdown",
   "metadata": {},
   "source": [
    "The Hyperloglog implementation was acquired by using pip install hll and can be found at http://github.com/ascv/HyperLogLog . It was implemented in C and is faster than the other one. "
   ]
  },
  {
   "cell_type": "code",
   "execution_count": 7,
   "metadata": {
    "collapsed": false
   },
   "outputs": [],
   "source": [
    "import time \n",
    "from HLL import HyperLogLog\n",
    "from random import randint \n",
    "import matplotlib \n",
    "from matplotlib import pyplot as plt \n",
    "import numpy as np \n",
    "import math \n",
    "%matplotlib inline"
   ]
  },
  {
   "cell_type": "markdown",
   "metadata": {},
   "source": [
    "The following is a class defined to allow someone to do trials on the distribution of error for hyperloglog sizing. As of now, the add_trial() function allows the user to add a trial in which some number x of strings (right now the strings are made from python-generated random integers) are put into a hyperloglog with 2^n registers. The defaults are n = 16 (the maximum) and x = 1000000. The methods plot_trials() plots a histogram of the cardinality estimations and plot_timeframes() plots a histogram of the time to get the cardinality of the HyperLogLog in seconds"
   ]
  },
  {
   "cell_type": "code",
   "execution_count": 2,
   "metadata": {
    "collapsed": false
   },
   "outputs": [],
   "source": [
    "class Trials: \n",
    "    def __init__(self): \n",
    "        self.trials = []\n",
    "    def refresh(self): \n",
    "        self.trials = [] \n",
    "    def add_trial(self, n=16, x = 1000000):\n",
    "        hll = HyperLogLog(n, seed = 314)\n",
    "        for i in range(x):\n",
    "            hll.add(str(randint(10, 999999)))\n",
    "        start_time = time.time()\n",
    "        card = hll.cardinality()\n",
    "        timex = time.time()- start_time\n",
    "        self.trials.append((timex, card))\n",
    "    def plot_trials(self): \n",
    "        n, bins, patches = plt.hist([x[1] for x in self.trials])\n",
    "    def plot_timeframes(self):\n",
    "        n, bins, patches = plt.hist([x[0] for x in self.trials])\n",
    "    def __repr__(self): \n",
    "        return str(self.trials)\n",
    "        "
   ]
  },
  {
   "cell_type": "code",
   "execution_count": 3,
   "metadata": {
    "collapsed": true
   },
   "outputs": [],
   "source": [
    "test = Trials()"
   ]
  },
  {
   "cell_type": "code",
   "execution_count": 4,
   "metadata": {
    "collapsed": false
   },
   "outputs": [],
   "source": [
    "for i in range(100):\n",
    "    test.add_trial()"
   ]
  },
  {
   "cell_type": "markdown",
   "metadata": {},
   "source": [
    "The following indicates that perhaps using random integers was not the best way to go as there probably were repeats. If you choose to pull this code you may change the strings that are added. If I have time and I'm bored, I'll put in the word list from Othello or Macbeth or something. "
   ]
  },
  {
   "cell_type": "code",
   "execution_count": 5,
   "metadata": {
    "collapsed": false
   },
   "outputs": [
    {
     "data": {
      "image/png": "[encoded data removed]",
      "text/plain": [
       "<matplotlib.figure.Figure at 0x2a83e50>"
      ]
     },
     "metadata": {},
     "output_type": "display_data"
    }
   ],
   "source": [
    "test.plot_trials()"
   ]
  },
  {
   "cell_type": "markdown",
   "metadata": {},
   "source": [
    "At the very least it's very fast. For point of reference it's about an order of magnitude faster than the python dictionary. See README.md"
   ]
  },
  {
   "cell_type": "code",
   "execution_count": 6,
   "metadata": {
    "collapsed": false,
    "scrolled": true
   },
   "outputs": [
    {
     "data": {
      "image/png": "[encoded data removed]",
      "text/plain": [
       "<matplotlib.figure.Figure at 0x2a95190>"
      ]
     },
     "metadata": {},
     "output_type": "display_data"
    }
   ],
   "source": [
    "test.plot_timeframes()"
   ]
  },
  {
   "cell_type": "code",
   "execution_count": 9,
   "metadata": {
    "collapsed": false
   },
   "outputs": [
    {
     "name": "stdout",
     "output_type": "stream",
     "text": [
      "1.07097625732e-05 7.2808427921e-06\n"
     ]
    }
   ],
   "source": [
    "## other stuff \n",
    "trials = []\n",
    "for j in range(100):\n",
    "    d = {} \n",
    "    for i in range (1000000):\n",
    "        d[i] = 1\n",
    "    start_time = time.time()\n",
    "    d[i+1] =1\n",
    "    timex = time.time() - start_time\n",
    "    trials.append(timex)\n",
    "np_trials = np.array(trials)\n",
    "print np.mean(np_trials), np.std(np_trials)"
   ]
  },
  {
   "cell_type": "code",
   "execution_count": null,
   "metadata": {
    "collapsed": true
   },
   "outputs": [],
   "source": []
  }
 ],
 "metadata": {
  "kernelspec": {
   "display_name": "Python 2",
   "language": "python",
   "name": "python2"
  },
  "language_info": {
   "codemirror_mode": {
    "name": "ipython",
    "version": 2
   },
   "file_extension": ".py",
   "mimetype": "text/x-python",
   "name": "python",
   "nbconvert_exporter": "python",
   "pygments_lexer": "ipython2",
   "version": "2.7.3"
  }
 },
 "nbformat": 4,
 "nbformat_minor": 0
}
